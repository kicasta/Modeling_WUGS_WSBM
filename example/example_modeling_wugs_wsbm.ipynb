{
  "nbformat": 4,
  "nbformat_minor": 0,
  "metadata": {
    "orig_nbformat": 2,
    "colab": {
      "name": "example_modeling_wugs_wsbm.ipynb",
      "provenance": [],
      "toc_visible": true
    },
    "language_info": {
      "name": "python"
    },
    "kernelspec": {
      "name": "python3",
      "display_name": "Python 3"
    }
  },
  "cells": [
    {
      "cell_type": "markdown",
      "metadata": {
        "id": "Qt1Da6YXzod5"
      },
      "source": [
        "<a href=\"https://colab.research.google.com/github/kicasta/Modeling_WUGS_WSBM/blob/master/example/example_modeling_wugs_wsbm.ipynb\" target=\"_parent\"><img src=\"https://colab.research.google.com/assets/colab-badge.svg\" alt=\"Open In Colab\"/></a>\n"
      ]
    },
    {
      "cell_type": "markdown",
      "metadata": {
        "id": "vpxtEJrbzoeA"
      },
      "source": [
        "# Prepare everything\n",
        "\n",
        "We first need to install every dependency needed to run this notebook in colab. "
      ]
    },
    {
      "cell_type": "code",
      "metadata": {
        "id": "sgXRrfaPzoeC",
        "outputId": "4c95127c-0610-404c-df75-5df2a90e0733",
        "colab": {
          "base_uri": "https://localhost:8080/"
        }
      },
      "source": [
        "!pip install pymc3 --upgrade\n",
        "\n",
        "!echo \"deb http://downloads.skewed.de/apt bionic main\" >> /etc/apt/sources.list\n",
        "!apt-key adv --keyserver keys.openpgp.org --recv-key 612DEFB798507F25\n",
        "!apt-get update\n",
        "!apt-get install python3-graph-tool python3-cairo python3-matplotlib\n",
        "\n",
        "!apt install libgraphviz-dev\n",
        "!pip install pygraphviz\n",
        "\n",
        "!pip install pyvis"
      ],
      "execution_count": null,
      "outputs": []
    },
    {
      "cell_type": "markdown",
      "metadata": {
        "id": "5smHxDDjzoeD"
      },
      "source": [
        "We also need to clone the repository to your content, so every module is accessible from this notebook. Notice that your content in colab gets purged everytime your environment is restarted. \n",
        "\n",
        "You might need to refresh the content directory to see the repository cloned. "
      ]
    },
    {
      "cell_type": "code",
      "metadata": {
        "id": "fywn-T5HzoeE",
        "outputId": "b2ecd48d-0184-4b6f-92e0-04d84deb1689",
        "colab": {
          "base_uri": "https://localhost:8080/"
        }
      },
      "source": [
        "!git clone https://github.com/kicasta/Modeling_WUGS_WSBM.git"
      ],
      "execution_count": null,
      "outputs": []
    },
    {
      "cell_type": "markdown",
      "metadata": {
        "id": "HS2AgdKn0bjv"
      },
      "source": [
        "We now add the path to the system path to easily import the modules."
      ]
    },
    {
      "cell_type": "code",
      "metadata": {
        "id": "TZMOnLUCzoeE"
      },
      "source": [
        "import sys\n",
        "sys.path.insert(0,'/content/Modeling_WUGS_WSBM/src/')"
      ],
      "execution_count": null,
      "outputs": []
    },
    {
      "cell_type": "markdown",
      "metadata": {
        "id": "T55PHy920vcs"
      },
      "source": [
        "Import everything "
      ]
    },
    {
      "cell_type": "code",
      "metadata": {
        "id": "mh0pPtQ_0TfL"
      },
      "source": [
        "import wsbm as wsbm\n",
        "import plot_utils as pltutil\n",
        "\n",
        "import pickle\n",
        "from collections import Counter"
      ],
      "execution_count": null,
      "outputs": []
    },
    {
      "source": [
        "In the next cell we load a wug and find the distribution that best fits it while also returning the corresponding partition. "
      ],
      "cell_type": "markdown",
      "metadata": {}
    },
    {
      "cell_type": "code",
      "execution_count": null,
      "metadata": {},
      "outputs": [],
      "source": [
        "g_name = \"zersetzen\"\n",
        "g_path = \"/content/Modeling_WUGS_WSBM/example/wug_example/\" + g_name"
      ]
    },
    {
      "cell_type": "code",
      "execution_count": null,
      "metadata": {},
      "outputs": [],
      "source": [
        "#load the graph    \n",
        "graph, s_gt, pos = wsbm.open_graph(g_path)\n",
        "\n",
        "#find the best distribution and the wug partition wrt. to that distribution\n",
        "dist, state = wsbm.find_best_distribution(s_gt)\n",
        "b = wsbm.get_blocks(state)\n",
        "\n",
        "#compute measures wrt. to the best partition\n",
        "mri, purity, acc = wsbm.partition_and_stat_gt(graph, s_gt, b, verbose=False)\n",
        "\n",
        "print(\"DISTRIBUTION \", dist)\n",
        "print(\"MRI\", mri)\n",
        "print(\"PURITY\", purity)\n",
        "print(\"ACCURACY\", acc)"
      ]
    },
    {
      "source": [
        "With the above partition and distribution we can then visualize the inferred parameters based on the fitted ones. We show a joint picture considering all the communities/blocks in the same plot, but also a breakdown inside each community and between each of them in the detailed picture. "
      ],
      "cell_type": "markdown",
      "metadata": {}
    },
    {
      "cell_type": "code",
      "execution_count": null,
      "metadata": {},
      "outputs": [],
      "source": [
        "# create a directory to save all the images\n",
        "!mkdir best_fit\n",
        "best_fit = \"/content/best_fit/\"\n",
        "\n",
        "# get the edges and vertices of the wug\n",
        "edges = s_gt.get_edges([s_gt.ep.orig_weight])\n",
        "vertices = s_gt.get_vertices()\n",
        "\n",
        "# get weights of all the edges between communities\n",
        "outside_edges = [item for item in edges if b[vertices[int(item[0])]] != b[vertices[int(item[1])]]]\n",
        "outside_weights = [item[2] for item in outside_edges]\n",
        "\n",
        "# get weights of all the edges inside every community\n",
        "inside_edges = [item for item in edges if b[vertices[int(item[0])]] == b[vertices[int(item[1])]]]\n",
        "inside_weights = [item[2] for item in inside_edges]\n",
        "\n",
        "# infer the parameters of the specific distribution for the weights both inside and between communities\n",
        "inferred_p_inside = wsbm.infer_p(inside_weights, distribution=dist)\n",
        "inferred_p_outside = wsbm.infer_p(outside_weights, distribution=dist)\n",
        "\n",
        "# get the communities labels\n",
        "c = Counter(b.a)\n",
        "communities = list(c.values())\n",
        "\n",
        "# generate the joint plot\n",
        "pltutil.plot_values(inside_weights, outside_weights, inferred_p_inside, inferred_p_outside, \"joint_\" + g_name + \".png\", distribution=dist, xticks_shifted=False, path=best_fit)\n",
        "\n",
        "# compute the wug partition with labels\n",
        "partition = wsbm.compute_partition(g, b)\n",
        "inferred_ps = dict()\n",
        "\n",
        "# infer the distribution parameters for/between each community\n",
        "for k,v in partition.items():\n",
        "  inferred_ps[k] = wsbm.infer_p(v, distribution=dist)\n",
        "\n",
        "blocks = list(b.a)\n",
        "\n",
        "# generate the single plots for each community or between all community pairs\n",
        "for k in inferred_ps.keys():\n",
        "  in_community = len(k) == 1\n",
        "\n",
        "  if in_community:\n",
        "    title = \"Block '\" + k + \"' - Vertex Count: \" + str(blocks.count(int(k))) + \" - \" + \"Edge Count: \" + str(len(partition[k]))\n",
        "  else:\n",
        "    title = \"Between Blocks '\" + k + \"' - Edge Count: \" + str(len(partition[k]))\n",
        "  pltutil.plot_values_oneside(partition[k], inferred_ps[k], in_community, title, fig_title=k, xticks_shifted=False, path=best_fit, distribution=dist)\n",
        "\n",
        "# generate a detailed plot showing all the single plots previously generated        \n",
        "pltutil.combine_community_plots(list(partition.keys()), len(communities), \"detailed_distribution_\" + g_name + \".png\", path=best_fit)\n",
        "    "
      ]
    },
    {
      "source": [
        "We already saw how to find the best distribution for each graph and compute some relevant measures wrt. to the partition generated. All this data is saved in two dictionaries for later reuse and because there is no warranty that the best partition is the same twice, specially for complex graphs. \n",
        "\n",
        "In the next sections we work with precomputed values, saved in the data directory in the repository."
      ],
      "cell_type": "markdown",
      "metadata": {}
    },
    {
      "cell_type": "code",
      "metadata": {
        "id": "bPpUVW7G4ggM"
      },
      "source": [
        "# Load the dictionaries\n",
        "output_path = \"/content/Modeling_WUGS_WSBM/data/best_fit/\"\n",
        "\n",
        "with open(output_path + \"g_dist_states\", 'rb') as f:\n",
        "  states = pickle.load(f)\n",
        "\n",
        "with open(output_path + \"g_accuracies\", 'rb') as f:\n",
        "  accuracies = pickle.load(f)"
      ],
      "execution_count": null,
      "outputs": []
    },
    {
      "source": [
        "From those dictionaries we can then plot a lot of useful statistics."
      ],
      "cell_type": "markdown",
      "metadata": {}
    },
    {
      "cell_type": "code",
      "metadata": {
        "id": "u2Rgoyjz03uI",
        "outputId": "66867608-c06f-4402-f1cb-c541962229a2",
        "colab": {
          "base_uri": "https://localhost:8080/",
          "height": 221
        }
      },
      "source": [
        "# Plot the amount of graphs best fitted by each distribution\n",
        "# Corresponds to plot_distributions.py\n",
        "dists = [d for d,s in states.values()]\n",
        "dist_count = {d:dists.count(d) for d in set(dists)}\n",
        "\n",
        "dist_labels = dist_count.keys()\n",
        "dist_values = [dist_count[d] for d in dist_labels]\n",
        "dist_labels = [d.split(\"-\")[1] for d in dist_labels]\n",
        "\n",
        "pltutil.plot_dist_dist(dist_labels, dist_values)"
      ],
      "execution_count": null,
      "outputs": []
    },
    {
      "cell_type": "code",
      "metadata": {
        "id": "so1RxWOZ3WdM",
        "outputId": "fb87f2bd-5251-4069-e30a-201fa61e5d9e",
        "colab": {
          "base_uri": "https://localhost:8080/",
          "height": 198
        }
      },
      "source": [
        "# Plot the amount of blocks of the best fit found for each graph \n",
        "# Corresponds to plot_number_of_blocks.py\n",
        "block_counts = {}\n",
        "for g,v in states.items():\n",
        "  state = v[1]\n",
        "  block_counts[g] = len(set(wsbm.get_blocks(state)))\n",
        "\n",
        "blocks_y = [block_counts[k] for k in block_counts.keys()]\n",
        "pltutil.plot_single_stat(block_counts.keys(), blocks_y, \"Number of Blocks\", limy=False)"
      ],
      "execution_count": null,
      "outputs": []
    },
    {
      "cell_type": "code",
      "execution_count": null,
      "metadata": {},
      "outputs": [],
      "source": [
        "# Plot the accuracy of the best fits \n",
        "# Corresponds to plot_accuracies.py\n",
        "acc_y = [accuracies[k] for k in accuracies.keys()]\n",
        "pltutil.plot_single_stat(accuracies.keys(), acc_y, \"Accuracy\")"
      ]
    }
  ]
}