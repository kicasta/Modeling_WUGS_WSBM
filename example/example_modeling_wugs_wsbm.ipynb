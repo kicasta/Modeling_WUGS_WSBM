{
  "nbformat": 4,
  "nbformat_minor": 0,
  "metadata": {
    "orig_nbformat": 2,
    "colab": {
      "name": "example_modeling_wugs_wsbm.ipynb",
      "provenance": [],
      "toc_visible": true
    },
    "language_info": {
      "name": "python"
    },
    "kernelspec": {
      "name": "python3",
      "display_name": "Python 3"
    }
  },
  "cells": [
    {
      "cell_type": "markdown",
      "metadata": {
        "id": "Qt1Da6YXzod5"
      },
      "source": [
        "<a href=\"https://colab.research.google.com/github/kicasta/Modeling_WUGS_WSBM/blob/master/example/example_modeling_wugs_wsbm.ipynb\" target=\"_parent\"><img src=\"https://colab.research.google.com/assets/colab-badge.svg\" alt=\"Open In Colab\"/></a>\n"
      ]
    },
    {
      "cell_type": "markdown",
      "metadata": {
        "id": "vpxtEJrbzoeA"
      },
      "source": [
        "# Prepare everything\n",
        "\n",
        "We first need to install every dependency needed to run this notebook in colab. "
      ]
    },
    {
      "cell_type": "code",
      "metadata": {
        "id": "sgXRrfaPzoeC",
        "outputId": "4c95127c-0610-404c-df75-5df2a90e0733",
        "colab": {
          "base_uri": "https://localhost:8080/"
        }
      },
      "source": [
        "!pip install pymc3 --upgrade\n",
        "\n",
        "!echo \"deb http://downloads.skewed.de/apt bionic main\" >> /etc/apt/sources.list\n",
        "!apt-key adv --keyserver keys.openpgp.org --recv-key 612DEFB798507F25\n",
        "!apt-get update\n",
        "!apt-get install python3-graph-tool python3-cairo python3-matplotlib\n",
        "\n",
        "!apt install libgraphviz-dev\n",
        "!pip install pygraphviz\n",
        "\n",
        "!pip install pyvis"
      ],
      "execution_count": null,
      "outputs": []
    },
    {
      "cell_type": "markdown",
      "metadata": {
        "id": "5smHxDDjzoeD"
      },
      "source": [
        "We also need to clone the repository to your content, so every module is accessible from this notebook. Notice that your content in colab gets purged everytime your environment is restarted. \n",
        "\n",
        "You might need to refresh the content directory to see the repository cloned. "
      ]
    },
    {
      "cell_type": "code",
      "metadata": {
        "id": "fywn-T5HzoeE",
        "outputId": "b2ecd48d-0184-4b6f-92e0-04d84deb1689",
        "colab": {
          "base_uri": "https://localhost:8080/"
        }
      },
      "source": [
        "!git clone https://github.com/kicasta/Modeling_WUGS_WSBM.git"
      ],
      "execution_count": null,
      "outputs": []
    },
    {
      "cell_type": "markdown",
      "metadata": {
        "id": "HS2AgdKn0bjv"
      },
      "source": [
        "We now add the path to the system path to easily import the modules."
      ]
    },
    {
      "cell_type": "code",
      "metadata": {
        "id": "TZMOnLUCzoeE"
      },
      "source": [
        "import sys\n",
        "sys.path.insert(0,'/content/Modeling_WUGS_WSBM/src/')"
      ],
      "execution_count": null,
      "outputs": []
    },
    {
      "cell_type": "markdown",
      "metadata": {
        "id": "T55PHy920vcs"
      },
      "source": [
        "Import everything "
      ]
    },
    {
      "cell_type": "code",
      "metadata": {
        "id": "mh0pPtQ_0TfL"
      },
      "source": [
        "import wsbm as wsbm\n",
        "import plot_utils as pltutil\n",
        "\n",
        "import pickle"
      ],
      "execution_count": null,
      "outputs": []
    },
    {
      "cell_type": "markdown",
      "metadata": {
        "id": "IuhOf_fH1tcd"
      },
      "source": [
        "Load dictionaries with the best fit found for the data presented in the paper."
      ]
    },
    {
      "cell_type": "code",
      "metadata": {
        "id": "bPpUVW7G4ggM"
      },
      "source": [
        "output_path = \"/content/Modeling_WUGS_WSBM/data/best_fit/\"\n",
        "\n",
        "with open(output_path + \"g_dist_states\", 'rb') as f:\n",
        "  states = pickle.load(f)\n",
        "\n",
        "with open(output_path + \"g_accuracies\", 'rb') as f:\n",
        "  accuracies = pickle.load(f)"
      ],
      "execution_count": null,
      "outputs": []
    },
    {
      "cell_type": "code",
      "execution_count": null,
      "metadata": {},
      "outputs": [],
      "source": [
        "#TODO: if possible to use graph file then show in this section how the best fit is found"
      ]
    },
    {
      "source": [
        "From those dictionaries we can then plot a lot of useful statistics."
      ],
      "cell_type": "markdown",
      "metadata": {}
    },
    {
      "cell_type": "code",
      "metadata": {
        "id": "u2Rgoyjz03uI",
        "outputId": "66867608-c06f-4402-f1cb-c541962229a2",
        "colab": {
          "base_uri": "https://localhost:8080/",
          "height": 221
        }
      },
      "source": [
        "# Plot the amount of graphs best fitted by each distribution\n",
        "# Corresponds to plot_distributions.py\n",
        "dists = [d for d,s in states.values()]\n",
        "dist_count = {d:dists.count(d) for d in set(dists)}\n",
        "\n",
        "dist_labels = dist_count.keys()\n",
        "dist_values = [dist_count[d] for d in dist_labels]\n",
        "dist_labels = [d.split(\"-\")[1] for d in dist_labels]\n",
        "\n",
        "pltutil.plot_dist_dist(dist_labels, dist_values)"
      ],
      "execution_count": null,
      "outputs": []
    },
    {
      "cell_type": "code",
      "metadata": {
        "id": "so1RxWOZ3WdM",
        "outputId": "fb87f2bd-5251-4069-e30a-201fa61e5d9e",
        "colab": {
          "base_uri": "https://localhost:8080/",
          "height": 198
        }
      },
      "source": [
        "# Plot the amount of blocks of the best fit found for each graph \n",
        "# Corresponds to plot_number_of_blocks.py\n",
        "block_counts = {}\n",
        "for g,v in states.items():\n",
        "  state = v[1]\n",
        "  block_counts[g] = len(set(wsbm.get_blocks(state)))\n",
        "\n",
        "blocks_y = [block_counts[k] for k in block_counts.keys()]\n",
        "pltutil.plot_single_stat(block_counts.keys(), blocks_y, \"Number of Blocks\", limy=False)"
      ],
      "execution_count": null,
      "outputs": []
    },
    {
      "cell_type": "code",
      "execution_count": null,
      "metadata": {},
      "outputs": [],
      "source": [
        "# Plot the accuracy of the best fits \n",
        "# Corresponds to plot_accuracies.py\n",
        "acc_y = [accuracies[k] for k in accuracies.keys()]\n",
        "pltutil.plot_single_stat(accuracies.keys(), acc_y, \"Accuracy\")"
      ]
    }
  ]
}